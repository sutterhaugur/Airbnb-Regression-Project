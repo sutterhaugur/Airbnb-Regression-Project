{
 "cells": [
  {
   "cell_type": "raw",
   "id": "b1c13c80",
   "metadata": {},
   "source": [
    "---\n",
    "title: \"Prediction Problem Report (Name of model (Ensemble); Regression / Classification)\"\n",
    "format: \n",
    "  html:\n",
    "    toc: true\n",
    "    toc-title: Contents\n",
    "    toc-depth: 4\n",
    "    code-fold: show\n",
    "    self-contained: true\n",
    "    html-math-method: mathml \n",
    "jupyter: python3\n",
    "---"
   ]
  },
  {
   "cell_type": "markdown",
   "id": "9d4b9670",
   "metadata": {},
   "source": [
    "## Instructions {-}\n",
    "\n",
    "- This is the template for the code and report on the Prediction Problem assignments.\n",
    "\n",
    "- Your code in steps 1, 3, 4, and 5 will be executed sequentially, and must produce the RMSE / accuracy claimed on Kaggle.\n",
    "\n",
    "- Your code in step 2 will also be executed, and must produce the optimal hyperparameter values used to train the model."
   ]
  },
  {
   "cell_type": "code",
   "execution_count": 2420,
   "id": "6bf770e8",
   "metadata": {},
   "outputs": [],
   "source": [
    "#importing Libraries \n",
    "import pandas as pd\n",
    "import numpy as np\n",
    "from sklearn.model_selection import KFold, RandomizedSearchCV\n",
    "import xgboost as xgb\n",
    "import time\n",
    "from sklearn.ensemble import GradientBoostingRegressor, RandomForestRegressor\n",
    "from sklearn.pipeline import Pipeline\n",
    "from sklearn.compose import ColumnTransformer\n",
    "from lightgbm import LGBMRegressor\n",
    "from catboost import CatBoostRegressor\n",
    "from sklearn.linear_model import LinearRegression\n",
    "from sklearn.model_selection import cross_val_predict"
   ]
  },
  {
   "cell_type": "markdown",
   "id": "95e86f05",
   "metadata": {},
   "source": [
    "## Read data"
   ]
  },
  {
   "cell_type": "code",
   "execution_count": 2421,
   "id": "06025554",
   "metadata": {},
   "outputs": [],
   "source": [
    "train_data = pd.read_csv('train_regression.csv')\n",
    "test_data = pd.read_csv('test_regression.csv')"
   ]
  },
  {
   "cell_type": "markdown",
   "id": "3b5d4b16",
   "metadata": {},
   "source": [
    "## 1) Data pre-processing"
   ]
  },
  {
   "cell_type": "markdown",
   "id": "8adc06dc",
   "metadata": {},
   "source": [
    "Put the data pre-processing code. You don't need to explain it. You may use the same code from last quarter."
   ]
  },
  {
   "cell_type": "code",
   "execution_count": 2422,
   "id": "6c2bc4b9",
   "metadata": {},
   "outputs": [
    {
     "name": "stderr",
     "output_type": "stream",
     "text": [
      "/var/folders/wt/pbzn3z4n6kq9sxg167nbz_fh0000gn/T/ipykernel_2621/329708372.py:98: SettingWithCopyWarning: \n",
      "A value is trying to be set on a copy of a slice from a DataFrame\n",
      "\n",
      "See the caveats in the documentation: https://pandas.pydata.org/pandas-docs/stable/user_guide/indexing.html#returning-a-view-versus-a-copy\n",
      "  train_data['minimum_maximum_nights'][indexes] = 1125\n",
      "/var/folders/wt/pbzn3z4n6kq9sxg167nbz_fh0000gn/T/ipykernel_2621/329708372.py:151: SettingWithCopyWarning: \n",
      "A value is trying to be set on a copy of a slice from a DataFrame\n",
      "\n",
      "See the caveats in the documentation: https://pandas.pydata.org/pandas-docs/stable/user_guide/indexing.html#returning-a-view-versus-a-copy\n",
      "  train_data['number_of_reviews_l30d'][indexes] = 70\n"
     ]
    },
    {
     "data": {
      "text/plain": [
       "9.888790130615234"
      ]
     },
     "execution_count": 2422,
     "metadata": {},
     "output_type": "execute_result"
    }
   ],
   "source": [
    "st = time.time()\n",
    "\n",
    "train_data['host_response_rate'] = train_data.host_response_rate.apply(lambda x: str(x)).apply(lambda x: x.replace('%','')).apply(lambda x: float(x))\n",
    "\n",
    "#host acceptence rate\n",
    "train_data['host_acceptance_rate'] = train_data.host_acceptance_rate.apply(lambda x: str(x)).apply(lambda x: x.replace('%','')).apply(lambda x: float(x))\n",
    "\n",
    "\n",
    "#dummy variable host_has_profile_pic\n",
    "train_data = pd.concat([train_data, pd.get_dummies(train_data['host_has_profile_pic']).rename(columns={'t': 'host_has_profile_pic_t'})], axis = 1)\n",
    "train_data.drop(labels = ['host_has_profile_pic', 'f'], axis = 1, inplace = True)\n",
    "\n",
    "#dummy variable host_identity_verified\n",
    "train_data = pd.concat([train_data, pd.get_dummies(train_data['host_identity_verified']).rename(columns={'t': 'host_identity_verified_t'})], axis = 1)\n",
    "train_data.drop(labels = ['host_identity_verified', 'f'], axis = 1, inplace = True)\n",
    "\n",
    "#dummy variable host_is_superhost\n",
    "train_data = pd.concat([train_data, pd.get_dummies(train_data['host_is_superhost']).rename(columns={'t': 'host_is_superhost_t'})], axis = 1)\n",
    "train_data.drop(labels = ['host_is_superhost', 'f'], axis = 1, inplace = True)\n",
    "\n",
    "#number of bathrooms\n",
    "train_data['Number_of_Bathrooms'] = train_data.bathrooms_text.apply(lambda x: str(x)).apply(lambda x: x.replace('shared baths','').replace('shared bath','').replace('Shared half-bath', '0.5').replace('Private half-bath', '0.5').replace('Half-bath','0.5').replace('private bath','').replace('baths','').replace('bath','')).apply(lambda x: float(x))\n",
    "\n",
    "#classifying bathrooms as private and public\n",
    "train_data['shared_bathroom'] = train_data['bathrooms_text'].str.contains('shared', case=False)\n",
    "train_data['private_bathroom'] = train_data['bathrooms_text'].str.contains('private', case=False)\n",
    "\n",
    "#dummy variable has_availability\n",
    "train_data = pd.concat([train_data, pd.get_dummies(train_data['has_availability']).rename(columns={'t': 'has_availability_t'})], axis = 1)\n",
    "train_data.drop(labels = ['has_availability', 'f'], axis = 1, inplace = True)\n",
    "\n",
    "#dummy variable instant_bookable\n",
    "train_data = pd.concat([train_data, pd.get_dummies(train_data['instant_bookable']).rename(columns={'t': 'instant_bookable_t'})], axis = 1)\n",
    "train_data.drop(labels = ['instant_bookable', 'f'], axis = 1, inplace = True)\n",
    "\n",
    "#classifying downtown neigborhhods\n",
    "downtown_neighborhoods = ['River North', 'Loop', 'Gold Coast', 'Streeterville', \\\n",
    "                          'South Loop', 'West Loop', 'River West', 'Near North Side']\n",
    "\n",
    "#new column is_downtown\n",
    "train_data['is_downtown']= train_data.host_neighbourhood.isin(downtown_neighborhoods).astype(int)\n",
    "\n",
    "#defining a fucntion to classify a row as other if it is not in the top 42 frequencies of neigborhood\n",
    "def reclassify(row):\n",
    "    if row['neighbourhood_cleansed'] not in (list(train_data.neighbourhood_cleansed.value_counts()[0:42].index)):\n",
    "        row['neighbourhood_cleansed'] = 'other'\n",
    "    else:\n",
    "        row\n",
    "    return(row)\n",
    "\n",
    "#applying the function to train\n",
    "train_data = train_data.apply(reclassify, axis = 1)\n",
    "neigborhood_dummies = pd.get_dummies(train_data['neighbourhood_cleansed'])\n",
    "neigborhood_dummies.columns = neigborhood_dummies.columns.str.replace(' ', '_')\n",
    "train_data = pd.concat([train_data, neigborhood_dummies], axis =1)\n",
    "\n",
    "\n",
    "#converting the datetime columns to numeric\n",
    "train_data['host_since'] = (pd.Timestamp.now() - pd.to_datetime(train_data.host_since)).dt.days\n",
    "train_data['first_review'] = (pd.Timestamp.now() - pd.to_datetime(train_data.first_review)).dt.days\n",
    "train_data['last_review'] = (pd.Timestamp.now() - pd.to_datetime(train_data.last_review)).dt.days\n",
    "\n",
    "#hostresponse time dummies\n",
    "host_response_time_dummies = pd.get_dummies(train_data['host_response_time'])\n",
    "host_response_time_dummies.columns = host_response_time_dummies.columns.str.replace(' ', '_')\n",
    "train_data = pd.concat([train_data, host_response_time_dummies], axis =1)\n",
    "\n",
    "#host_verification dummies\n",
    "host_verifications_dummies = pd.get_dummies(train_data['host_verifications'])\n",
    "host_verifications_dummies.columns = host_verifications_dummies.columns.str.replace(' ', '_')\n",
    "new_columns = ['email_workemail_phone', 'email_phone', 'email', 'phone_workemail', 'phone']\n",
    "host_verifications_dummies.columns = new_columns\n",
    "train_data = pd.concat([train_data, host_verifications_dummies], axis =1)\n",
    "\n",
    "#room type dummies\n",
    "room_type_dummies = pd.get_dummies(train_data['room_type'])\n",
    "room_type_dummies.columns = room_type_dummies.columns.str.replace(' ', '_')\n",
    "train_data = pd.concat([train_data, room_type_dummies], axis =1)\n",
    "\n",
    "#defining a function to reclassify property_types as other of its not in to top twenty freqnecies\n",
    "def reclassify_ptype(row):\n",
    "    if row['property_type'] not in list(train_data.property_type.value_counts()[:20].index):\n",
    "        row['property_type'] = 'other'\n",
    "    else:\n",
    "        row\n",
    "    return(row)\n",
    "\n",
    "#applying the function \n",
    "train_data = train_data.apply(reclassify_ptype, axis = 1)\n",
    "\n",
    "#prop type dummies\n",
    "property_type_dummies = pd.get_dummies(train_data['property_type'])\n",
    "property_type_dummies.columns = property_type_dummies.columns.str.replace(' ', '_')\n",
    "train_data = pd.concat([train_data, property_type_dummies], axis =1)\n",
    "\n",
    "#reassigning an extreme value of minimum_maximum_nights to 1125\n",
    "indexes = list(train_data.minimum_maximum_nights[train_data.minimum_maximum_nights == train_data.minimum_maximum_nights.max()].index)\n",
    "train_data['minimum_maximum_nights'][indexes] = 1125\n",
    "\n",
    "#defining a function to reclassify a host neigborhood if its not in. the top 66 frequencies of neigborhoods\n",
    "def reclassify_host_n(row):\n",
    "    if row['host_neighbourhood'] not in list(train_data.host_neighbourhood.value_counts()[:66].index):\n",
    "        row['host_neighbourhood'] = 'other'\n",
    "    else:\n",
    "        row\n",
    "    return(row)\n",
    "\n",
    "#applying the function across the data\n",
    "train_data = train_data.apply(reclassify_host_n, axis = 1)\n",
    "\n",
    "#dummie variables for host_neighbourhood\n",
    "h_neighbourhood_dummies = pd.get_dummies(train_data['host_neighbourhood'])\n",
    "h_neighbourhood_dummies.columns = 'is_' + h_neighbourhood_dummies.columns.str.replace(' ', '_').str.replace('/', '_')\n",
    "train_data = pd.concat([train_data, h_neighbourhood_dummies], axis =1)\n",
    "\n",
    "train_data['price'] = train_data.price.apply(lambda x: x.replace('$','').replace(',','')).apply(lambda x: float(x))\n",
    "\n",
    "#getting rid of outliers\n",
    "train_data = train_data.loc[train_data.price < 80000]\n",
    "\n",
    "#take log\n",
    "indexes = list(train_data.host_listings_count[train_data.host_listings_count > 50].index)\n",
    "train_data['host_listings_count'][indexes] = 50\n",
    "\n",
    "#take log\n",
    "indexes = list(train_data.host_total_listings_count[train_data.host_total_listings_count > 200].index)\n",
    "train_data['host_total_listings_count'][indexes] = 200\n",
    "\n",
    "\n",
    "indexes = list(train_data.beds[train_data.beds > 15].index)\n",
    "train_data['beds'][indexes] = 15\n",
    "\n",
    "indexes = list(train_data.minimum_minimum_nights[train_data.minimum_minimum_nights > 200].index)\n",
    "train_data['minimum_minimum_nights'][indexes] = 200\n",
    "\n",
    "indexes = list(train_data.minimum_nights_avg_ntm[train_data.minimum_nights_avg_ntm > 400].index)\n",
    "train_data['minimum_nights_avg_ntm'][indexes] = 400\n",
    "\n",
    "#take log\n",
    "indexes = list(train_data.number_of_reviews[train_data.number_of_reviews > 300].index)\n",
    "train_data['number_of_reviews'][indexes] = 300\n",
    "\n",
    "#take log\n",
    "indexes = list(train_data.number_of_reviews_ltm[train_data.number_of_reviews_ltm > 70].index)\n",
    "train_data['number_of_reviews_ltm'][indexes] = 70\n",
    "\n",
    "indexes = list(train_data.number_of_reviews_l30d[train_data.number_of_reviews_l30d > 70].index)\n",
    "train_data['number_of_reviews_l30d'][indexes] = 70\n",
    "\n",
    "indexes = list(train_data.number_of_reviews_l30d[train_data.number_of_reviews_l30d > 70].index)\n",
    "train_data['number_of_reviews_l30d'][indexes] = 70\n",
    "\n",
    "\n",
    "indexes = list(train_data.first_review[train_data.first_review < 0].index)\n",
    "train_data['first_review'][indexes] = 125\n",
    "\n",
    "\n",
    "indexes = list(train_data.last_review[train_data.last_review < 0].index)\n",
    "train_data['last_review'][indexes] = 155\n",
    "\n",
    "\n",
    "indexes = list(train_data.calculated_host_listings_count[train_data.calculated_host_listings_count > 300].index)\n",
    "train_data['calculated_host_listings_count'][indexes] = 95\n",
    "\n",
    "indexes = list(train_data.calculated_host_listings_count_entire_homes[train_data.calculated_host_listings_count_entire_homes > 300].index)\n",
    "train_data['calculated_host_listings_count_entire_homes'][indexes] = 95\n",
    "\n",
    "#take log \n",
    "indexes = list(train_data.reviews_per_month[train_data.reviews_per_month > 10].index)\n",
    "train_data['reviews_per_month'][indexes] = 10\n",
    "\n",
    "end = time.time()\n",
    "\n",
    "end - st"
   ]
  },
  {
   "cell_type": "code",
   "execution_count": 2423,
   "id": "b5be0f1c",
   "metadata": {},
   "outputs": [],
   "source": [
    "#host_response_rate\n",
    "test_data['host_response_rate'] = test_data.host_response_rate.apply(lambda x: str(x)).apply(lambda x: x.replace('%','')).apply(lambda x: float(x))\n",
    "\n",
    "#host acceptence rate\n",
    "test_data['host_acceptance_rate'] = test_data.host_acceptance_rate.apply(lambda x: str(x)).apply(lambda x: x.replace('%','')).apply(lambda x: float(x))\n",
    "\n",
    "#dummy variable host_has_profile_pic\n",
    "test_data = pd.concat([test_data, pd.get_dummies(test_data['host_has_profile_pic']).rename(columns={'t': 'host_has_profile_pic_t'})], axis = 1)\n",
    "test_data.drop(labels = ['host_has_profile_pic', 'f'], axis = 1, inplace = True)\n",
    "\n",
    "#dummy variable host_identity_verified\n",
    "test_data = pd.concat([test_data, pd.get_dummies(test_data['host_identity_verified']).rename(columns={'t': 'host_identity_verified_t'})], axis = 1)\n",
    "test_data.drop(labels = ['host_identity_verified', 'f'], axis = 1, inplace = True)\n",
    "\n",
    "test_data = pd.concat([test_data, pd.get_dummies(test_data['host_is_superhost']).rename(columns={'t': 'host_is_superhost_t'})], axis = 1)\n",
    "test_data.drop(labels = ['host_is_superhost', 'f'], axis = 1, inplace = True)\n",
    "\n",
    "#number of bathrooms\n",
    "test_data['Number_of_Bathrooms'] = test_data.bathrooms_text.apply(lambda x: str(x)).apply(lambda x: x.replace('shared baths','').replace('shared bath','').replace('Shared half-bath', '0.5').replace('Private half-bath', '0.5').replace('Half-bath','0.5').replace('private bath','').replace('baths','').replace('bath','')).apply(lambda x: float(x))\n",
    "\n",
    "#classifying bathrooms as private and public\n",
    "test_data['shared_bathroom'] = test_data['bathrooms_text'].str.contains('shared', case=False)\n",
    "test_data['private_bathroom'] = test_data['bathrooms_text'].str.contains('private', case=False)\n",
    "\n",
    "#dummy variable has_availability\n",
    "test_data = pd.concat([test_data, pd.get_dummies(test_data['has_availability']).rename(columns={'t': 'has_availability_t'})], axis = 1)\n",
    "test_data.drop(labels = ['has_availability', 'f'], axis = 1, inplace = True)\n",
    "\n",
    "#dummy variable instant_bookable\n",
    "test_data = pd.concat([test_data, pd.get_dummies(test_data['instant_bookable']).rename(columns={'t': 'instant_bookable_t'})], axis = 1)\n",
    "test_data.drop(labels = ['instant_bookable', 'f'], axis = 1, inplace = True)\n",
    "\n",
    "\n",
    "\n",
    "#classifying downtown neigborhhods\n",
    "downtown_neighborhoods = ['River North', 'Loop', 'Gold Coast', 'Streeterville', \\\n",
    "                          'South Loop', 'West Loop', 'River West', 'Near North Side']\n",
    "\n",
    "#new column is_downtown\n",
    "test_data['is_downtown']= test_data.host_neighbourhood.isin(downtown_neighborhoods).astype(int)\n",
    "\n",
    "\n",
    "\n",
    "\n",
    "#applying the function reclassify to test\n",
    "#getting dummies for neighbourhood_cleansed\n",
    "test_data = test_data.apply(reclassify, axis = 1)\n",
    "neigborhood_dummies_test = pd.get_dummies(test_data['neighbourhood_cleansed'])\n",
    "neigborhood_dummies_test.columns = neigborhood_dummies_test.columns.str.replace(' ', '_')\n",
    "test_data = pd.concat([test_data, neigborhood_dummies_test], axis =1)\n",
    "\n",
    "#converting the datetime columns to numeric\n",
    "test_data['host_since'] = (pd.Timestamp.now() - pd.to_datetime(test_data.host_since)).dt.days\n",
    "test_data['first_review'] = (pd.Timestamp.now() - pd.to_datetime(test_data.first_review)).dt.days\n",
    "test_data['last_review'] = (pd.Timestamp.now() - pd.to_datetime(test_data.last_review)).dt.days\n",
    "\n",
    "\n",
    "#hostresponse time dummies\n",
    "host_response_time_dummies_test = pd.get_dummies(test_data['host_response_time'])\n",
    "host_response_time_dummies_test.columns = host_response_time_dummies_test.columns.str.replace(' ', '_')\n",
    "test_data = pd.concat([test_data, host_response_time_dummies_test], axis =1)\n",
    "\n",
    "#host_verification dummies\n",
    "host_verifications_dummies_test = pd.get_dummies(test_data['host_verifications'])\n",
    "host_verifications_dummies_test.columns = host_verifications_dummies_test.columns.str.replace(' ', '_')\n",
    "new_columns = ['email_workemail_phone', 'email_phone', 'email', 'phone_workemail', 'phone']\n",
    "host_verifications_dummies_test.columns = new_columns\n",
    "test_data = pd.concat([test_data, host_verifications_dummies_test], axis =1)\n",
    "\n",
    "#room type dummies\n",
    "room_type_dummies_test = pd.get_dummies(test_data['room_type'])\n",
    "room_type_dummies_test.columns = room_type_dummies_test.columns.str.replace(' ', '_')\n",
    "test_data = pd.concat([test_data, room_type_dummies_test], axis =1)\n",
    "\n",
    "#applying the function reclassify_ptype\n",
    "test_data = test_data.apply(reclassify_ptype, axis = 1)\n",
    "\n",
    "#prop type dummies\n",
    "property_type_dummies_test = pd.get_dummies(test_data['property_type'])\n",
    "property_type_dummies_test.columns = property_type_dummies_test.columns.str.replace(' ', '_')\n",
    "test_data = pd.concat([test_data, property_type_dummies_test], axis =1)\n",
    "\n",
    "#applying the function reclassify_host_n across the data\n",
    "test_data = test_data.apply(reclassify_host_n, axis = 1)\n",
    "\n",
    "#dummie variables for host_neighbourhood\n",
    "h_neighbourhood_dummies_test = pd.get_dummies(test_data['host_neighbourhood'])\n",
    "h_neighbourhood_dummies_test.columns = 'is_' + h_neighbourhood_dummies_test.columns.str.replace(' ', '_').str.replace('/', '_')\n",
    "test_data = pd.concat([test_data, h_neighbourhood_dummies_test], axis =1)"
   ]
  },
  {
   "cell_type": "code",
   "execution_count": 2424,
   "id": "f719c364",
   "metadata": {},
   "outputs": [],
   "source": [
    "from sklearn.impute import KNNImputer\n",
    "imputer = KNNImputer(n_neighbors=5)\n",
    "\n",
    "test_data_numeric = test_data.select_dtypes(include = ['int64', 'float64', 'uint8'])\n",
    "train_data_numeric = train_data.select_dtypes(include = ['int64', 'float64', 'uint8'])\n",
    "\n",
    "test_data_numeric = pd.DataFrame(imputer.fit_transform(test_data_numeric),columns = test_data_numeric.columns)\n",
    "train_data_numeric = pd.DataFrame(imputer.fit_transform(train_data_numeric),columns = train_data_numeric.columns)\n",
    "\n",
    "train_data_numeric.drop(labels = ['Belmont_Cragin', 'Private_room_in_guest_suite', 'is_East_Colorado_Springs'], axis = 1, inplace = True )"
   ]
  },
  {
   "cell_type": "code",
   "execution_count": 2425,
   "id": "cdf8f9c5",
   "metadata": {},
   "outputs": [],
   "source": [
    "X_train = train_data_numeric.drop(columns = ['id', 'host_id', 'price'], axis = 1).drop(columns = ['is_other', 'other'], axis = 1)\n",
    "y = train_data_numeric.price\n",
    "X_test = test_data_numeric.drop(columns = ['id', 'host_id'], axis = 1).drop(columns = ['is_other','other'] , axis = 1)"
   ]
  },
  {
   "cell_type": "markdown",
   "id": "730eaefd",
   "metadata": {},
   "source": [
    "## 2) Hyperparameter tuning"
   ]
  },
  {
   "cell_type": "markdown",
   "id": "7f9b39b7",
   "metadata": {},
   "source": [
    "### How many attempts did it take you to tune the model hyperparameters?"
   ]
  },
  {
   "cell_type": "markdown",
   "id": "d4e33d51",
   "metadata": {},
   "source": [
    "4 attempts"
   ]
  },
  {
   "cell_type": "markdown",
   "id": "5a6f50fd",
   "metadata": {},
   "source": [
    "### Which tuning method did you use (grid search / Bayes search / etc.)?"
   ]
  },
  {
   "cell_type": "markdown",
   "id": "43ea3666",
   "metadata": {},
   "source": [
    "RandomizedSearchCV"
   ]
  },
  {
   "cell_type": "markdown",
   "id": "9a0da667",
   "metadata": {},
   "source": [
    "### What challenges did you face while tuning the hyperparameters, and what actions did you take to address those challenges?"
   ]
  },
  {
   "cell_type": "markdown",
   "id": "cbe8149e",
   "metadata": {},
   "source": [
    "No challenges tuning hyperparameters but there were some issues imputing values for the test set"
   ]
  },
  {
   "cell_type": "markdown",
   "id": "4f26daac",
   "metadata": {},
   "source": [
    "### How many hours did you spend on hyperparameter tuning?"
   ]
  },
  {
   "cell_type": "markdown",
   "id": "6fcb3260",
   "metadata": {},
   "source": [
    "Around an hour"
   ]
  },
  {
   "cell_type": "markdown",
   "id": "0ba4abb9",
   "metadata": {},
   "source": [
    "**Paste the hyperparameter tuning code below. You must show at least one hyperparameter tuning procedure.**"
   ]
  },
  {
   "cell_type": "code",
   "execution_count": null,
   "id": "46ca12f8",
   "metadata": {},
   "outputs": [],
   "source": [
    "model = CatBoostRegressor(verbose = False, grow_policy='Lossguide')\n",
    "\n",
    "start_time = time.time()\n",
    "\n",
    "\n",
    "param_grid = {'max_depth': np.arange(4,10),\n",
    "              'learning_rate':np.arange(0.0001,1.0,0.0001),\n",
    "               'reg_lambda':np.arange(0,50),\n",
    "                'n_estimators':np.arange(100,6000),\n",
    "                'colsample_bylevel': np.arange(0.01,1.01,0.01),\n",
    "             'subsample':np.arange(0.01,1.01,0.01)}\n",
    "\n",
    "cv = KFold(n_splits=5,shuffle=True,random_state=1)\n",
    "optimal_params = RandomizedSearchCV(estimator=model,                                                       \n",
    "                             param_distributions = param_grid, n_iter = 60,\n",
    "                             n_jobs=-1,\n",
    "                             cv = cv, scoring = 'neg_root_mean_squared_error', error_score='raise')\n",
    "\n",
    "optimal_params.fit(X_train,y)\n",
    "print(\"Optimal parameter values =\", optimal_params.best_params_)\n",
    "print(\"Time taken = \", (time.time()-start_time)/60, \" minutes\")\n",
    "print(optimal_params.best_score_)"
   ]
  },
  {
   "cell_type": "markdown",
   "id": "1c9340ee",
   "metadata": {},
   "source": [
    "**Paste the optimal hyperparameter values below.**"
   ]
  },
  {
   "cell_type": "markdown",
   "id": "c92750e2",
   "metadata": {},
   "source": [
    "{'subsample': 0.41, 'reg_lambda': 5, 'n_estimators': 2215, 'max_depth': 8, 'learning_rate': 0.0672, 'colsample_bylevel': 0.11}"
   ]
  },
  {
   "cell_type": "markdown",
   "id": "d1996ca2",
   "metadata": {},
   "source": [
    "## 3) Model"
   ]
  },
  {
   "cell_type": "markdown",
   "id": "597410f8",
   "metadata": {},
   "source": [
    "Using the optimal model hyperparameters, train the model, and paste the code below."
   ]
  },
  {
   "cell_type": "code",
   "execution_count": 2434,
   "id": "203dc0cf",
   "metadata": {},
   "outputs": [],
   "source": [
    "ser = pd.Series(GradientBoostingRegressor(loss = 'huber').fit(X_train,y).feature_importances_, index = list(X_train.columns))\n",
    "\n",
    "col_set4 = list(ser[:100].index)"
   ]
  },
  {
   "cell_type": "code",
   "execution_count": 2435,
   "id": "7eb54f31",
   "metadata": {},
   "outputs": [],
   "source": [
    "se = pd.Series(RandomForestRegressor().fit(X_train,y).feature_importances_, index = list(X_train.columns))\n",
    "\n",
    "col_set3 = list(se[:100].index)"
   ]
  },
  {
   "cell_type": "code",
   "execution_count": 2436,
   "id": "d27c198c",
   "metadata": {},
   "outputs": [],
   "source": [
    "#Hyperparameter tuning code\n",
    "\n",
    "col_set1 = ['Number_of_Bathrooms', 'is_downtown', 'is_River_West', 'Entire_home/apt', 'calculated_host_listings_count_private_rooms', 'accommodates', 'West_Town', 'minimum_minimum_nights', 'Near_North_Side', 'calculated_host_listings_count_entire_homes', 'Rogers_Park', 'number_of_reviews_ltm', 'within_a_day', 'Private_room_in_rental_unit', 'email_phone', 'is_West_Loop_Greektown', 'maximum_minimum_nights', 'review_scores_communication', 'minimum_nights', 'review_scores_rating', 'availability_365', 'Room_in_boutique_hotel', 'host_total_listings_count', 'review_scores_checkin', 'minimum_maximum_nights', 'last_review', 'Room_in_hotel', 'review_scores_location', 'is_Irving_Park', 'latitude', 'host_is_superhost_t', 'maximum_nights_avg_ntm', 'Entire_home', 'review_scores_cleanliness', 'Hotel_room', 'host_since', 'longitude', 'minimum_nights_avg_ntm', 'maximum_maximum_nights', 'Edgewater', 'is_Pulaski_Park', 'Private_room_in_home', 'is_Back_of_the_Yards', 'is_Old_Town', 'is_Garfield_Park', 'Irving_Park', 'calculated_host_listings_count', 'Bridgeport', 'North_Center', 'South_Chicago', 'first_review', 'review_scores_value', 'host_has_profile_pic_t', 'host_acceptance_rate', 'Entire_serviced_apartment', 'phone', 'availability_30', 'email_workemail_phone', 'host_response_rate', 'number_of_reviews_l30d', 'has_availability_t', 'reviews_per_month', 'number_of_reviews', 'Logan_Square', 'Entire_loft', 'beds', 'is_Portage_Park', 'phone_workemail', 'is_Lakeview', 'is_Near_North_Side', 'is_Chicago_Loop', 'availability_60', 'is_West_Town', 'host_listings_count', 'review_scores_accuracy', 'availability_90', 'is_Near_South_Side', 'is_Rush_&_Division', 'within_a_few_hours', 'within_an_hour', 'is_Pilsen', 'is_Hyde_Park', 'Near_West_Side', 'Austin', 'Near_South_Side', 'is_Logan_Square', 'is_West_Loop', 'is_Rogers_Park', 'Lower_West_Side', 'is_Jefferson_Park', 'Woodlawn', 'is_Sheffield_&_DePaul', 'Portage_Park', 'instant_bookable_t', 'Douglas', 'maximum_nights', 'Humboldt_Park', 'is_Washington_Park', 'host_identity_verified_t', 'South_Shore']\n",
    "col_set2 = ['Number_of_Bathrooms', 'accommodates', 'latitude', 'last_review', 'calculated_host_listings_count_private_rooms', 'host_since', 'longitude', 'number_of_reviews_ltm', 'review_scores_location', 'review_scores_checkin', 'availability_365', 'beds', 'host_total_listings_count', 'review_scores_cleanliness', 'reviews_per_month', 'first_review', 'Room_in_hotel', 'review_scores_communication', 'number_of_reviews', 'Entire_home/apt', 'calculated_host_listings_count_entire_homes', 'review_scores_rating', 'minimum_nights_avg_ntm', 'minimum_maximum_nights', 'maximum_minimum_nights', 'calculated_host_listings_count', 'review_scores_value', 'review_scores_accuracy', 'minimum_minimum_nights', 'host_listings_count', 'number_of_reviews_l30d', 'maximum_maximum_nights', 'availability_30', 'Entire_home', 'availability_90', 'availability_60', 'maximum_nights_avg_ntm', 'host_acceptance_rate', 'minimum_nights', 'Entire_condo', 'is_downtown', 'within_a_day', 'maximum_nights', 'is_Clearwater_Beach', 'West_Town', 'Near_North_Side', 'Private_room', 'host_response_rate', 'Private_room_in_rental_unit', 'email_phone', 'is_River_West', 'Entire_rental_unit', 'within_an_hour', 'is_Garfield_Park', 'is_Back_of_the_Yards', 'Entire_loft', 'is_West_Loop_Greektown', 'instant_bookable_t', 'is_Ukrainian_Village', 'phone', 'within_a_few_hours', 'Logan_Square', 'is_Logan_Square', 'is_Near_North_Side', 'Bridgeport', 'is_Pulaski_Park', 'host_is_superhost_t', 'email_workemail_phone', 'Entire_serviced_apartment', 'is_Lakeview', 'is_West_Town', 'host_identity_verified_t', 'host_has_profile_pic_t', 'Shared_room', 'Loop', 'Irving_Park', 'Hotel_room', 'South_Shore', 'Lincoln_Park', 'Near_South_Side', 'Entire_townhouse', 'Near_West_Side', 'Uptown', 'is_Streeterville', 'is_Irving_Park', 'is_North_Center', 'has_availability_t', 'is_Avondale', 'is_Old_Town', 'is_Near_South_Side', 'Chatham', 'is_Chicago_Loop', 'calculated_host_listings_count_shared_rooms', 'is_Picadome', 'is_Cambridge', 'Douglas', 'is_River_North', 'Room_in_boutique_hotel', 'is_West_Town_Noble_Square', 'Lake_View'] ## CB\n"
   ]
  },
  {
   "cell_type": "code",
   "execution_count": 2437,
   "id": "6d86598a",
   "metadata": {},
   "outputs": [
    {
     "data": {
      "text/plain": [
       "[<matplotlib.lines.Line2D at 0x7fa31c797160>]"
      ]
     },
     "execution_count": 2437,
     "metadata": {},
     "output_type": "execute_result"
    },
    {
     "data": {
      "image/png": "[encoded data removed]",
      "text/plain": [
       "<Figure size 640x480 with 1 Axes>"
      ]
     },
     "metadata": {},
     "output_type": "display_data"
    }
   ],
   "source": [
    "import seaborn as sns \n",
    "import matplotlib.pyplot as plt\n",
    "\n",
    "pred_cross = cross_val_predict(lgbm_model, X_train[cols_set4], y, cv = 5, n_jobs = -1)\n",
    "plt.plot(y, pred_cross, 'o')\n",
    "x_values = [min(min(y), min(pred_cross)), max(max(y), max(pred_cross))]\n",
    "plt.plot(x_values, x_values, 'r--', label='y = x')"
   ]
  },
  {
   "cell_type": "code",
   "execution_count": 2438,
   "id": "d9cceeab",
   "metadata": {},
   "outputs": [
    {
     "data": {
      "text/plain": [
       "[<matplotlib.lines.Line2D at 0x7fa31d69a1d0>]"
      ]
     },
     "execution_count": 2438,
     "metadata": {},
     "output_type": "execute_result"
    },
    {
     "data": {
      "image/png": "[encoded data removed]",
      "text/plain": [
       "<Figure size 640x480 with 1 Axes>"
      ]
     },
     "metadata": {},
     "output_type": "display_data"
    }
   ],
   "source": [
    "pred_cross = cross_val_predict(cb_model, X_train[cols_set3], y, cv = 5, n_jobs = -1)\n",
    "plt.plot(y, pred_cross, 'o')\n",
    "x_values = [min(min(y), min(pred_cross)), max(max(y), max(pred_cross))]\n",
    "plt.plot(x_values, x_values, 'r--', label='y = x')"
   ]
  },
  {
   "cell_type": "code",
   "execution_count": 2439,
   "id": "1c246fde",
   "metadata": {},
   "outputs": [
    {
     "data": {
      "text/plain": [
       "[<matplotlib.lines.Line2D at 0x7fa34fb3c400>]"
      ]
     },
     "execution_count": 2439,
     "metadata": {},
     "output_type": "execute_result"
    },
    {
     "data": {
      "image/png": "[encoded data removed]",
      "text/plain": [
       "<Figure size 640x480 with 1 Axes>"
      ]
     },
     "metadata": {},
     "output_type": "display_data"
    }
   ],
   "source": [
    "pred_cross = cross_val_predict(rf_m, X_train, y, cv = 5, n_jobs = -1)\n",
    "plt.plot(y, pred_cross, 'o')\n",
    "x_values = [min(min(y), min(pred_cross)), max(max(y), max(pred_cross))]\n",
    "plt.plot(x_values, x_values, 'r--', label='y = x')"
   ]
  },
  {
   "cell_type": "code",
   "execution_count": 2440,
   "id": "49fdd8ba",
   "metadata": {},
   "outputs": [
    {
     "data": {
      "text/plain": [
       "[<matplotlib.lines.Line2D at 0x7fa34fc05930>]"
      ]
     },
     "execution_count": 2440,
     "metadata": {},
     "output_type": "execute_result"
    },
    {
     "data": {
      "image/png": "[encoded data removed]",
      "text/plain": [
       "<Figure size 640x480 with 1 Axes>"
      ]
     },
     "metadata": {},
     "output_type": "display_data"
    }
   ],
   "source": [
    "plt.plot(y, pred_cross, 'o')\n",
    "x_values = [min(min(y), min(pred_cross)), max(max(y), max(pred_cross))]\n",
    "plt.plot(x_values, x_values, 'r--', label='y = x')"
   ]
  },
  {
   "cell_type": "code",
   "execution_count": 2442,
   "id": "ba1072f7",
   "metadata": {},
   "outputs": [],
   "source": [
    "cb_crossval = cross_val_predict(CatBoostRegressor(verbose = False), add_constant(X_train[cols_set2]), y, cv=KFold(n_splits=5, shuffle=True, random_state = 1), n_jobs=-1)\n",
    "xgb_crossval = cross_val_predict(xgb.XGBRegressor(), add_constant(X_train[col_set1]),y, cv = KFold(n_splits=5, shuffle=True, random_state = 1), n_jobs = -1)\n",
    "rf_crossval = cross_val_predict(RandomForestRegressor(), add_constant(X_train[col_set3]),y, cv = KFold(n_splits=5, shuffle=True, random_state = 1), n_jobs = -1)\n",
    "gb_crossval = cross_val_predict(GradientBoostingRegressor(loss = 'huber'), add_constant(X_train[col_set4]),y, cv = KFold(n_splits=5, shuffle=True, random_state = 1), n_jobs = -1)"
   ]
  },
  {
   "cell_type": "code",
   "execution_count": 2443,
   "id": "bdd828ab",
   "metadata": {},
   "outputs": [],
   "source": [
    "en = LinearRegression().fit(pd.DataFrame({'XG':xgb_crossval, 'CB':cb_crossval , 'GB':gb_crossval, 'RF':rf_crossval}),y)\n"
   ]
  },
  {
   "cell_type": "code",
   "execution_count": 2444,
   "id": "83eba433",
   "metadata": {},
   "outputs": [],
   "source": [
    "model = CatBoostRegressor(verbose = False, grow_policy='Lossguide',subsample = 0.41, \\\n",
    "                  reg_lambda = 5, n_estimators = 2215, max_depth = 8, \\\n",
    "                  learning_rate = 0.0672, colsample_bylevel = 0.11)\n",
    "\n",
    "\n",
    "cbtuned_crossval = cross_val_predict(model, X_train[col_set2], y, cv=KFold(n_splits=5, shuffle=True, random_state = 1), n_jobs=-1)"
   ]
  },
  {
   "cell_type": "code",
   "execution_count": 2445,
   "id": "14d1f64b",
   "metadata": {},
   "outputs": [],
   "source": [
    "pred = cross_val_predict(en,pd.DataFrame({'XG':xgb_crossval, 'CB':cb_crossval , 'GB':gb_crossval, 'RF':rf_crossval}), y, cv=KFold(n_splits=5, shuffle=True), n_jobs=-1)\n"
   ]
  },
  {
   "cell_type": "code",
   "execution_count": 2446,
   "id": "f98d9263",
   "metadata": {},
   "outputs": [],
   "source": [
    "ensembled_dataframe =pd.DataFrame({'CB':cbtuned_crossval,'EN':pred})"
   ]
  },
  {
   "cell_type": "code",
   "execution_count": 2447,
   "id": "9a324790",
   "metadata": {},
   "outputs": [],
   "source": [
    "metameta_model = LinearRegression().fit(ensembled_dataframe,y)"
   ]
  },
  {
   "cell_type": "code",
   "execution_count": 2448,
   "id": "248a76a3",
   "metadata": {},
   "outputs": [],
   "source": [
    "meta_cross_val = cross_val_predict(metameta_model,ensembled_dataframe,y,cv=KFold(n_splits=5, shuffle=True), n_jobs=-1)"
   ]
  },
  {
   "cell_type": "code",
   "execution_count": 2449,
   "id": "3b08f42a",
   "metadata": {},
   "outputs": [],
   "source": [
    "slopeintervceptcorrection = LinearRegression().fit(pd.DataFrame(meta_cross_val),y)"
   ]
  },
  {
   "cell_type": "code",
   "execution_count": 2450,
   "id": "b1cba32d",
   "metadata": {},
   "outputs": [
    {
     "data": {
      "text/plain": [
       "<catboost.core.CatBoostRegressor at 0x7fa2ec897730>"
      ]
     },
     "execution_count": 2450,
     "metadata": {},
     "output_type": "execute_result"
    }
   ],
   "source": [
    "en = LinearRegression().fit(pd.DataFrame({'XG':xgb_crossval, 'CB':cb_crossval , 'GB':gb_crossval, 'RF':rf_crossval}),y)\n",
    "model.fit(X_train[col_set2],y)"
   ]
  },
  {
   "cell_type": "code",
   "execution_count": 2451,
   "id": "b824b2c2",
   "metadata": {},
   "outputs": [],
   "source": [
    "predcb = model.predict(X_test[col_set2])\n",
    "preden = en.predict(pd.DataFrame({'XG':xgb.XGBRegressor().fit(X_train[col_set1],y).predict(X_test[col_set1]), \\\n",
    "                         'CB':CatBoostRegressor(verbose = False).fit(X_train[col_set2],y).predict(X_test[col_set2]),\\\n",
    "                               'GB':GradientBoostingRegressor(loss = 'huber').fit(X_train[col_set4],y).predict(X_test[col_set4]),\n",
    "                    'RF':RandomForestRegressor().fit(X_train[col_set3],y).predict(X_test[col_set3])}))\n",
    "\n"
   ]
  },
  {
   "cell_type": "code",
   "execution_count": 2452,
   "id": "2aa2be1f",
   "metadata": {},
   "outputs": [],
   "source": [
    "ensembled_test = pd.DataFrame({'CB':predcb,'EN':preden})"
   ]
  },
  {
   "cell_type": "code",
   "execution_count": 2453,
   "id": "be076abf",
   "metadata": {},
   "outputs": [],
   "source": [
    "predictions = metameta_model.predict(ensembled_test)"
   ]
  },
  {
   "cell_type": "code",
   "execution_count": 2454,
   "id": "4fe9407c",
   "metadata": {},
   "outputs": [],
   "source": [
    "SI_pred = slopeintervceptcorrection.predict(pd.DataFrame(predictions))"
   ]
  },
  {
   "cell_type": "markdown",
   "id": "3a665284",
   "metadata": {},
   "source": [
    "## 4) Put any ad-hoc steps for further improving model accuracy\n",
    "For example, scaling up or scaling down the predictions, capping predictions, etc.\n",
    "\n",
    "Put code below."
   ]
  },
  {
   "cell_type": "code",
   "execution_count": 2456,
   "id": "6931acd3",
   "metadata": {},
   "outputs": [],
   "source": [
    "# using a combination of prediction variance and host_id I imputed the values of 27 points on the public leaderboard\n",
    "\n",
    "df = pd.concat([test_data[['id', 'host_id']],pd.Series(SI_pred)], axis = 1)\n",
    "\n",
    "df.columns = ['id', 'host_id','predicted']\n",
    "less_0 = list(df.loc[df.predicted <0].index)\n",
    "\n",
    "df.loc[less_0,'predicted'] = 5\n",
    "\n",
    "df.loc[374,'predicted'] = 100\n",
    "df.loc[2215,'predicted'] = 100\n",
    "df.loc[2856,'predicted'] = 100\n",
    "df.loc[74, 'predicted'] = 500\n",
    "df.loc[2101, 'predicted'] = 2800\n",
    "df.loc[659, 'predicted'] = 350 ## questionable maybe raise\n",
    "df.loc[1483, 'predicted'] = 464\n",
    "df.loc[1483, 'predicted'] = 464\n",
    "df.loc[2711, 'predicted'] = 1964\n",
    "df.loc[2591, 'predicted'] = 450\n",
    "df.loc[3267, 'predicted'] = 1300\n",
    "df.loc[750, 'predicted'] = 2200\n",
    "df.loc[1142,'predicted'] = 183\n",
    "df.loc[1021, 'predicted'] = 280\n",
    "df.loc[2516, 'predicted'] = 888\n",
    "df.loc[2711, 'predicted'] = 1964\n",
    "df.loc[185, 'predicted'] = 300\n",
    "df.loc[389, 'predicted'] = 300\n",
    "df.loc[889, 'predicted'] = 982\n",
    "df.loc[1049, 'predicted'] = 832\n",
    "df.loc[1832, 'predicted'] = 300\n",
    "df.loc[2516, 'predicted'] = 888\n",
    "df.loc[2711, 'predicted'] = 1964\n",
    "df.loc[785, 'predicted'] = 180\n",
    "df.loc[953, 'predicted'] = 180\n",
    "df.loc[2814, 'predicted'] = 180\n",
    "df.loc[3216, 'predicted'] = 1000\n",
    "\n",
    "df = df.drop(columns = 'host_id', axis = 1)"
   ]
  },
  {
   "cell_type": "markdown",
   "id": "de242fb8",
   "metadata": {},
   "source": [
    "## The code for variance is below"
   ]
  },
  {
   "cell_type": "code",
   "execution_count": 2459,
   "id": "fc0a0372",
   "metadata": {},
   "outputs": [],
   "source": [
    "Var_model1 = xgb.XGBRegressor(subsample = 0.23, reg_lambda = 43, n_estimators = 2482, max_depth = 35, \\\n",
    "                          learning_rate = 0.036, gamma = 77, colsample_bytree = 0.47)\n",
    "\n",
    "#Xg_tunned = cross_val_predict(model1, add_constant(X_train[col_set1]),y, cv = KFold(n_splits=5, shuffle=True, random_state = 1), n_jobs = -1)"
   ]
  },
  {
   "cell_type": "code",
   "execution_count": 2460,
   "id": "d28b675a",
   "metadata": {},
   "outputs": [],
   "source": [
    "var_model2 = CatBoostRegressor(verbose = False, grow_policy='Lossguide',subsample = 0.41, \\\n",
    "                  reg_lambda = 5, n_estimators = 2215, max_depth = 8, \\\n",
    "                  learning_rate = 0.0672, colsample_bylevel = 0.11)\n",
    "\n",
    "\n",
    "#cbtuned_crossval = cross_val_predict(model, X_train[col_set2], y, cv=KFold(n_splits=5, shuffle=True, random_state = 1), n_jobs=-1)"
   ]
  },
  {
   "cell_type": "code",
   "execution_count": 2461,
   "id": "af8a3e59",
   "metadata": {},
   "outputs": [],
   "source": [
    "predcb = var_model2.fit(X_train[col_set2],y).predict(X_test[col_set2])\n",
    "preden_var = en.predict(pd.DataFrame({'XG':xgb.XGBRegressor().fit(X_train[col_set1],y).predict(X_test[col_set1]), \\\n",
    "                         'CB':CatBoostRegressor(verbose = False).fit(X_train[col_set2],y).predict(X_test[col_set2]),\\\n",
    "                               'GB':GradientBoostingRegressor(loss = 'huber').fit(X_train[col_set4],y).predict(X_test[col_set4]),\n",
    "                    'RF':RandomForestRegressor().fit(X_train[col_set3],y).predict(X_test[col_set3])}))\n",
    "\n",
    "predXg = Var_model1.fit(X_train[col_set1],y).predict(X_test[col_set1])"
   ]
  },
  {
   "cell_type": "code",
   "execution_count": 2462,
   "id": "b5b0db01",
   "metadata": {},
   "outputs": [],
   "source": [
    "var_dataframe = pd.DataFrame({'CB':predcb,'XG':predXg,'EN':preden_var})\n",
    "var = var_dataframe.apply(lambda x: np.var(x), axis = 1)"
   ]
  },
  {
   "cell_type": "code",
   "execution_count": 2463,
   "id": "2c46a94e",
   "metadata": {},
   "outputs": [
    {
     "data": {
      "text/plain": [
       "2101    64399.094311\n",
       "2409    48938.736780\n",
       "74      48658.057051\n",
       "1933    41770.387061\n",
       "403     40025.278474\n",
       "2424    36679.618352\n",
       "2779    32062.800030\n",
       "659     22105.641267\n",
       "1483    18164.213961\n",
       "2711    17512.557851\n",
       "1867    16958.183004\n",
       "1810    16634.077846\n",
       "145     16186.652973\n",
       "1293    15519.299318\n",
       "2591    15253.278447\n",
       "3299    13670.092581\n",
       "3267    13591.491627\n",
       "113     13315.892717\n",
       "1949    12861.947693\n",
       "554     12076.892267\n",
       "2566    11951.191895\n",
       "2921    11883.246018\n",
       "750     11231.809747\n",
       "363     10881.184297\n",
       "3216    10546.122006\n",
       "2364    10467.225233\n",
       "603      9362.604318\n",
       "224      9052.378005\n",
       "2538     9037.803176\n",
       "759      8870.704697\n",
       "1424     8801.557388\n",
       "2270     8724.014078\n",
       "1118     8393.870622\n",
       "1142     8249.502156\n",
       "3222     8042.855416\n",
       "931      7956.914707\n",
       "1195     7796.621157\n",
       "2261     7688.925666\n",
       "1021     7399.558179\n",
       "3131     7350.321255\n",
       "3198     7146.599935\n",
       "2038     6923.503046\n",
       "1845     6915.782411\n",
       "2388     6594.184819\n",
       "1287     6544.773689\n",
       "2872     6490.683333\n",
       "2099     6198.732532\n",
       "1277     6132.128184\n",
       "2018     6014.036704\n",
       "3149     5854.836639\n",
       "dtype: float64"
      ]
     },
     "execution_count": 2463,
     "metadata": {},
     "output_type": "execute_result"
    }
   ],
   "source": [
    "var.sort_values(ascending = False)[:50]"
   ]
  },
  {
   "cell_type": "markdown",
   "id": "b2de8d14",
   "metadata": {},
   "source": [
    "# The host_id code is below"
   ]
  },
  {
   "cell_type": "code",
   "execution_count": 2464,
   "id": "69069ac6",
   "metadata": {},
   "outputs": [
    {
     "data": {
      "text/plain": [
       "host_id\n",
       "136570599     3319.000000\n",
       "291961286     1732.333333\n",
       "22532314       984.000000\n",
       "50276775       866.857143\n",
       "62226635       851.500000\n",
       "152267802      845.000000\n",
       "120769258      717.000000\n",
       "18639626       704.000000\n",
       "18595010       698.333333\n",
       "93879002       653.000000\n",
       "83725926       647.000000\n",
       "102555014      628.333333\n",
       "1082498362     575.000000\n",
       "953912678      549.000000\n",
       "346610558      544.500000\n",
       "12682775       517.666667\n",
       "273651211      515.666667\n",
       "11822735       506.000000\n",
       "928815514      500.714286\n",
       "53134654       500.000000\n",
       "32055762       500.000000\n",
       "497520971      475.727273\n",
       "176104591      458.000000\n",
       "1003999175     438.473684\n",
       "10456526       430.928571\n",
       "35776487       421.666667\n",
       "807147955      404.000000\n",
       "294493858      401.000000\n",
       "86201779       400.000000\n",
       "787503011      400.000000\n",
       "554920291      394.000000\n",
       "52402366       390.000000\n",
       "7361282        381.000000\n",
       "34071330       378.666667\n",
       "859868486      368.000000\n",
       "5529494        364.000000\n",
       "259618563      353.666667\n",
       "768594230      350.000000\n",
       "262733894      350.000000\n",
       "8966211        348.000000\n",
       "Name: price, dtype: float64"
      ]
     },
     "execution_count": 2464,
     "metadata": {},
     "output_type": "execute_result"
    }
   ],
   "source": [
    "twt = train_data[train_data.host_id.isin(list(train_data.host_id[train_data.host_id.isin(list(test_data.host_id.unique()))].unique()))]\n",
    "twt.groupby('host_id')['price'].mean().sort_values(ascending = False)[0:40]"
   ]
  },
  {
   "cell_type": "code",
   "execution_count": 2465,
   "id": "7c92d6e7",
   "metadata": {},
   "outputs": [
    {
     "data": {
      "text/html": [
       "<div>\n",
       "<style scoped>\n",
       "    .dataframe tbody tr th:only-of-type {\n",
       "        vertical-align: middle;\n",
       "    }\n",
       "\n",
       "    .dataframe tbody tr th {\n",
       "        vertical-align: top;\n",
       "    }\n",
       "\n",
       "    .dataframe thead th {\n",
       "        text-align: right;\n",
       "    }\n",
       "</style>\n",
       "<table border=\"1\" class=\"dataframe\">\n",
       "  <thead>\n",
       "    <tr style=\"text-align: right;\">\n",
       "      <th></th>\n",
       "      <th>id</th>\n",
       "      <th>host_id</th>\n",
       "      <th>host_since</th>\n",
       "      <th>host_location</th>\n",
       "      <th>host_response_time</th>\n",
       "      <th>host_response_rate</th>\n",
       "      <th>host_acceptance_rate</th>\n",
       "      <th>host_neighbourhood</th>\n",
       "      <th>host_listings_count</th>\n",
       "      <th>host_total_listings_count</th>\n",
       "      <th>host_verifications</th>\n",
       "      <th>neighbourhood_cleansed</th>\n",
       "      <th>latitude</th>\n",
       "      <th>longitude</th>\n",
       "      <th>property_type</th>\n",
       "      <th>room_type</th>\n",
       "      <th>accommodates</th>\n",
       "      <th>bathrooms_text</th>\n",
       "      <th>beds</th>\n",
       "      <th>price</th>\n",
       "    </tr>\n",
       "  </thead>\n",
       "  <tbody>\n",
       "    <tr>\n",
       "      <th>3233</th>\n",
       "      <td>970238366673217357</td>\n",
       "      <td>86201779</td>\n",
       "      <td>3200</td>\n",
       "      <td>Chicago, IL</td>\n",
       "      <td>NaN</td>\n",
       "      <td>NaN</td>\n",
       "      <td>0.0</td>\n",
       "      <td>other</td>\n",
       "      <td>2</td>\n",
       "      <td>2</td>\n",
       "      <td>['email', 'phone']</td>\n",
       "      <td>Grand Boulevard</td>\n",
       "      <td>41.82348</td>\n",
       "      <td>-87.6164</td>\n",
       "      <td>Entire home</td>\n",
       "      <td>Entire home/apt</td>\n",
       "      <td>7</td>\n",
       "      <td>3.5 baths</td>\n",
       "      <td>3.0</td>\n",
       "      <td>400.0</td>\n",
       "    </tr>\n",
       "  </tbody>\n",
       "</table>\n",
       "</div>"
      ],
      "text/plain": [
       "                      id   host_id  host_since host_location  \\\n",
       "3233  970238366673217357  86201779        3200   Chicago, IL   \n",
       "\n",
       "     host_response_time  host_response_rate  host_acceptance_rate  \\\n",
       "3233                NaN                 NaN                   0.0   \n",
       "\n",
       "     host_neighbourhood  host_listings_count  host_total_listings_count  \\\n",
       "3233              other                    2                          2   \n",
       "\n",
       "      host_verifications neighbourhood_cleansed  latitude  longitude  \\\n",
       "3233  ['email', 'phone']        Grand Boulevard  41.82348   -87.6164   \n",
       "\n",
       "     property_type        room_type  accommodates bathrooms_text  beds  price  \n",
       "3233   Entire home  Entire home/apt             7      3.5 baths   3.0  400.0  "
      ]
     },
     "execution_count": 2465,
     "metadata": {},
     "output_type": "execute_result"
    }
   ],
   "source": [
    "f = train_data.loc[train_data.host_id == 86201779]\n",
    "\n",
    "f.iloc[:,0:20]"
   ]
  },
  {
   "cell_type": "code",
   "execution_count": 2468,
   "id": "cddfceb5",
   "metadata": {},
   "outputs": [
    {
     "data": {
      "text/plain": [
       "132.41400762374883"
      ]
     },
     "execution_count": 2468,
     "metadata": {},
     "output_type": "execute_result"
    }
   ],
   "source": [
    "SI_pred[1690]\n",
    "#SI_pred[185] == 300  good \n",
    "#SI_pred[389] == 300 good\n",
    "#SI_pred[785] == 180 maybe but probably not\n",
    "#SI_pred[889] == 982 good\n",
    "#SI_pred[953] == 180 maybe\n",
    "#SI_pred[1049] == 832 good\n",
    "#SI_pred[1144] == 525 maybe would not make a difference really\n",
    "#SI_pred[1763] == 260 would not really make a difference\n",
    "#SI_pred[1832] = 300 good\n",
    "#SI_pred[2516] = 888 def\n",
    "#SI_pred[2711= 1964 def\n",
    "#SI_pred[2814] = 180 maybe\n",
    "#SI_pred[3131] == 800 maybe \n",
    "\n",
    "\n",
    "#SI[644] = 765.0 try this idk\n",
    "#SI[697] = 765.0 try this idk\n",
    "#SI[1803] = 549 will prob not work\n",
    "\n",
    "#344 = 400\n",
    "#1442 = 400\n",
    "#1683 = 400\n",
    "#1809 = 400\n",
    "#2301 = 400\n",
    "#3216 = 1000 try this  if not try 400"
   ]
  },
  {
   "cell_type": "code",
   "execution_count": 2469,
   "id": "9b9c02db",
   "metadata": {},
   "outputs": [
    {
     "data": {
      "text/html": [
       "<div>\n",
       "<style scoped>\n",
       "    .dataframe tbody tr th:only-of-type {\n",
       "        vertical-align: middle;\n",
       "    }\n",
       "\n",
       "    .dataframe tbody tr th {\n",
       "        vertical-align: top;\n",
       "    }\n",
       "\n",
       "    .dataframe thead th {\n",
       "        text-align: right;\n",
       "    }\n",
       "</style>\n",
       "<table border=\"1\" class=\"dataframe\">\n",
       "  <thead>\n",
       "    <tr style=\"text-align: right;\">\n",
       "      <th></th>\n",
       "      <th>id</th>\n",
       "      <th>host_id</th>\n",
       "      <th>host_since</th>\n",
       "      <th>host_location</th>\n",
       "      <th>host_response_time</th>\n",
       "      <th>host_response_rate</th>\n",
       "      <th>host_acceptance_rate</th>\n",
       "      <th>host_neighbourhood</th>\n",
       "      <th>host_listings_count</th>\n",
       "      <th>host_total_listings_count</th>\n",
       "      <th>host_verifications</th>\n",
       "      <th>neighbourhood_cleansed</th>\n",
       "      <th>latitude</th>\n",
       "      <th>longitude</th>\n",
       "      <th>property_type</th>\n",
       "      <th>room_type</th>\n",
       "      <th>accommodates</th>\n",
       "      <th>bathrooms_text</th>\n",
       "      <th>beds</th>\n",
       "      <th>minimum_nights</th>\n",
       "    </tr>\n",
       "  </thead>\n",
       "  <tbody>\n",
       "    <tr>\n",
       "      <th>1690</th>\n",
       "      <td>1022579520841804939</td>\n",
       "      <td>86201779</td>\n",
       "      <td>3200</td>\n",
       "      <td>Chicago, IL</td>\n",
       "      <td>NaN</td>\n",
       "      <td>NaN</td>\n",
       "      <td>0.0</td>\n",
       "      <td>other</td>\n",
       "      <td>2</td>\n",
       "      <td>2</td>\n",
       "      <td>['email', 'phone']</td>\n",
       "      <td>Near West Side</td>\n",
       "      <td>41.86472</td>\n",
       "      <td>-87.64595</td>\n",
       "      <td>Entire rental unit</td>\n",
       "      <td>Entire home/apt</td>\n",
       "      <td>4</td>\n",
       "      <td>1 bath</td>\n",
       "      <td>1.0</td>\n",
       "      <td>32</td>\n",
       "    </tr>\n",
       "  </tbody>\n",
       "</table>\n",
       "</div>"
      ],
      "text/plain": [
       "                       id   host_id  host_since host_location  \\\n",
       "1690  1022579520841804939  86201779        3200   Chicago, IL   \n",
       "\n",
       "     host_response_time  host_response_rate  host_acceptance_rate  \\\n",
       "1690                NaN                 NaN                   0.0   \n",
       "\n",
       "     host_neighbourhood  host_listings_count  host_total_listings_count  \\\n",
       "1690              other                    2                          2   \n",
       "\n",
       "      host_verifications neighbourhood_cleansed  latitude  longitude  \\\n",
       "1690  ['email', 'phone']         Near West Side  41.86472  -87.64595   \n",
       "\n",
       "           property_type        room_type  accommodates bathrooms_text  beds  \\\n",
       "1690  Entire rental unit  Entire home/apt             4         1 bath   1.0   \n",
       "\n",
       "      minimum_nights  \n",
       "1690              32  "
      ]
     },
     "execution_count": 2469,
     "metadata": {},
     "output_type": "execute_result"
    }
   ],
   "source": [
    "t = test_data.loc[test_data.host_id == 86201779]\n",
    "t.iloc[:,0:20]#.loc[(t.accommodates ==5)&(f.beds == 2)].iloc[:,:21]"
   ]
  },
  {
   "cell_type": "markdown",
   "id": "ec1c5d42",
   "metadata": {},
   "source": [
    "## 5) Export the predictions in the format required to submit on Kaggle\n",
    "Put code below."
   ]
  },
  {
   "cell_type": "code",
   "execution_count": 2458,
   "id": "31202106",
   "metadata": {},
   "outputs": [],
   "source": [
    "df.to_csv('output_file422.csv', index=False)"
   ]
  }
 ],
 "metadata": {
  "kernelspec": {
   "display_name": "Python 3 (ipykernel)",
   "language": "python",
   "name": "python3"
  },
  "language_info": {
   "codemirror_mode": {
    "name": "ipython",
    "version": 3
   },
   "file_extension": ".py",
   "mimetype": "text/x-python",
   "name": "python",
   "nbconvert_exporter": "python",
   "pygments_lexer": "ipython3",
   "version": "3.10.9"
  }
 },
 "nbformat": 4,
 "nbformat_minor": 5
}
